{
 "cells": [
  {
   "cell_type": "code",
   "execution_count": 1,
   "id": "7474b3e6",
   "metadata": {},
   "outputs": [],
   "source": [
    "import random\n",
    "import string"
   ]
  },
  {
   "cell_type": "code",
   "execution_count": 9,
   "id": "9cef32ae",
   "metadata": {},
   "outputs": [],
   "source": [
    "def generate_password(length):\n",
    "    char_set = string.printable[:-5]\n",
    "    password = \"\"\n",
    "    for _ in range(length):\n",
    "        rand_char = random.choice(char_set)\n",
    "        password += rand_char\n",
    "        \n",
    "    return password"
   ]
  },
  {
   "cell_type": "code",
   "execution_count": 10,
   "id": "91cd0a8a",
   "metadata": {},
   "outputs": [
    {
     "name": "stdout",
     "output_type": "stream",
     "text": [
      "Enter the length of the password you want: 8\n",
      "Generated Password: _qZ9?[+Y\n"
     ]
    }
   ],
   "source": [
    "length = int(input(\"Enter the length of the password you want: \"))\n",
    "password = generate_password(length)\n",
    "print(\"Generated Password:\", password)"
   ]
  },
  {
   "cell_type": "code",
   "execution_count": null,
   "id": "b2cc0f4d",
   "metadata": {},
   "outputs": [],
   "source": []
  }
 ],
 "metadata": {
  "kernelspec": {
   "display_name": "Python 3 (ipykernel)",
   "language": "python",
   "name": "python3"
  },
  "language_info": {
   "codemirror_mode": {
    "name": "ipython",
    "version": 3
   },
   "file_extension": ".py",
   "mimetype": "text/x-python",
   "name": "python",
   "nbconvert_exporter": "python",
   "pygments_lexer": "ipython3",
   "version": "3.11.5"
  }
 },
 "nbformat": 4,
 "nbformat_minor": 5
}
